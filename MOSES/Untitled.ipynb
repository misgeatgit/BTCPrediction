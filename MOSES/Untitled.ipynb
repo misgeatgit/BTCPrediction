{
 "cells": [
  {
   "cell_type": "code",
   "execution_count": 1,
   "metadata": {},
   "outputs": [],
   "source": [
    "def _cartesian(elements_set):\n",
    "    result = []\n",
    "    if len(elements_set) == 0:\n",
    "        return result\n",
    "    if len(elements_set) == 1:\n",
    "        return [[e] for e in elements_set[0]]\n",
    "    for i in range(0, 1):\n",
    "        products = _cartesian(elements_set[i+1: ])\n",
    "        for j in range(0, len(elements_set[i])):\n",
    "            for prdct in products:\n",
    "                result.append([elements_set[i][j]] + prdct)\n",
    "\n",
    "    return result"
   ]
  },
  {
   "cell_type": "code",
   "execution_count": 16,
   "metadata": {},
   "outputs": [
    {
     "data": {
      "text/plain": [
       "[['x', '0'], ['y', '0'], ['z', '0']]"
      ]
     },
     "execution_count": 16,
     "metadata": {},
     "output_type": "execute_result"
    }
   ],
   "source": [
    "_cartesian([['x', 'y', 'z'], ['0']])"
   ]
  },
  {
   "cell_type": "code",
   "execution_count": 11,
   "metadata": {},
   "outputs": [],
   "source": [
    "import pandas as pds\n",
    "feat1_bins = [pds.DataFrame({'feat1_bin0':[1,0,1,1]}),\n",
    "              pds.DataFrame({'feat1_bin0':[1,0,0,0], 'feat1_bin1':[0,0,0,1]}), \n",
    "              pds.DataFrame({'feat1_bin0':[1,0,0,0], 'feat1_bin1':[0,0,0,1], 'feat1_bin2':[1,1,1,1]})\n",
    "             ]\n",
    "feat2_bins = [pds.DataFrame({'feat2_bin0':[1,0,1,1]}),\n",
    "              pds.DataFrame({'feat2_bin0':[1,0,0,0], 'feat2_bin1':[0,0,0,1]})              \n",
    "             ]\n",
    "\n",
    "feat_bins = [feat1_bins, feat2_bins]\n"
   ]
  },
  {
   "cell_type": "code",
   "execution_count": 32,
   "metadata": {},
   "outputs": [
    {
     "data": {
      "text/html": [
       "<div>\n",
       "<style scoped>\n",
       "    .dataframe tbody tr th:only-of-type {\n",
       "        vertical-align: middle;\n",
       "    }\n",
       "\n",
       "    .dataframe tbody tr th {\n",
       "        vertical-align: top;\n",
       "    }\n",
       "\n",
       "    .dataframe thead th {\n",
       "        text-align: right;\n",
       "    }\n",
       "</style>\n",
       "<table border=\"1\" class=\"dataframe\">\n",
       "  <thead>\n",
       "    <tr style=\"text-align: right;\">\n",
       "      <th></th>\n",
       "      <th>feat1_bin0</th>\n",
       "      <th>feat1_bin1</th>\n",
       "    </tr>\n",
       "  </thead>\n",
       "  <tbody>\n",
       "  </tbody>\n",
       "</table>\n",
       "</div>"
      ],
      "text/plain": [
       "Empty DataFrame\n",
       "Columns: [feat1_bin0, feat1_bin1]\n",
       "Index: []"
      ]
     },
     "execution_count": 32,
     "metadata": {},
     "output_type": "execute_result"
    }
   ],
   "source": [
    "pds.merge(feat1_bins[1], feat2_bins[1], left_index=True, right_index=True)\n"
   ]
  },
  {
   "cell_type": "code",
   "execution_count": 19,
   "metadata": {},
   "outputs": [
    {
     "data": {
      "text/plain": [
       "['Misgana', 'Bayetta']"
      ]
     },
     "execution_count": 19,
     "metadata": {},
     "output_type": "execute_result"
    }
   ],
   "source": [
    "x = {'1':'Misgana', '2':'Bayetta'}\n",
    "list(x.values())"
   ]
  },
  {
   "cell_type": "code",
   "execution_count": null,
   "metadata": {},
   "outputs": [],
   "source": []
  }
 ],
 "metadata": {
  "kernelspec": {
   "display_name": "Python 2",
   "language": "python",
   "name": "python2"
  },
  "language_info": {
   "codemirror_mode": {
    "name": "ipython",
    "version": 2
   },
   "file_extension": ".py",
   "mimetype": "text/x-python",
   "name": "python",
   "nbconvert_exporter": "python",
   "pygments_lexer": "ipython2",
   "version": "2.7.15+"
  }
 },
 "nbformat": 4,
 "nbformat_minor": 2
}
